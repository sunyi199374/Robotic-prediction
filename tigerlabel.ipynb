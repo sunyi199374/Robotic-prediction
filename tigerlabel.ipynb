{
 "cells": [
  {
   "cell_type": "code",
   "execution_count": 3,
   "metadata": {},
   "outputs": [
    {
     "name": "stdout",
     "output_type": "stream",
     "text": [
      "0.5400390625 0.3645833333333333 0.111328125 0.21354166666666666\n"
     ]
    },
    {
     "data": {
      "image/png": "[encoded data removed]",
      "text/plain": [
       "<Figure size 432x288 with 1 Axes>"
      ]
     },
     "metadata": {
      "needs_background": "light"
     },
     "output_type": "display_data"
    }
   ],
   "source": [
    "import numpy as np\n",
    "import cv2\n",
    "from matplotlib import pyplot as plt\n",
    "import pickle\n",
    "import os\n",
    "%matplotlib inline\n",
    "\n",
    "img = cv2.imread('/home/e/Desktop/newtrain/img/screwdriver1.jpg')\n",
    "\n",
    "classdict = {\n",
    "    0 : \"screwdriver\",\n",
    "    1 : \"wrenches\"\n",
    "}\n",
    "\n",
    "def removegreen(image):\n",
    "    ## convert to hsv\n",
    "    hsv = cv2.cvtColor(image, cv2.COLOR_BGR2HSV)\n",
    "\n",
    "    ## mask of green (36,0,0) ~ (70, 255,255)\n",
    "    mask = cv2.inRange(hsv, (40, 0, 0), (80, 255,255))\n",
    "\n",
    "    ## slice the green\n",
    "    imask = mask>0\n",
    "\n",
    "    # set the green screen to a value\n",
    "    image[imask] = 0\n",
    "\n",
    "    return image\n",
    "\n",
    "def generatebox(img):\n",
    "    \n",
    "    imgh,imgw,_ = img.shape\n",
    "    \n",
    "    gray = cv2.cvtColor(img,cv2.COLOR_BGR2GRAY)\n",
    "\n",
    "    # noise removal\n",
    "    kernel = np.ones((3,3),np.uint8)\n",
    "    \n",
    "    out = cv2.dilate(gray,kernel,iterations = 8)\n",
    "    out = cv2.morphologyEx(out,cv2.MORPH_OPEN,kernel, iterations = 3)\n",
    "    \n",
    "    ret,thresh = cv2.threshold(out,10,255,0)\n",
    "    im2, contours, hierarchy = cv2.findContours(thresh,cv2.RETR_TREE,cv2.CHAIN_APPROX_SIMPLE)\n",
    "    \n",
    "\n",
    "    idx = 0\n",
    "    \n",
    "    xmax = 0\n",
    "    ymax = 0\n",
    "\n",
    "    xmin = 20000\n",
    "    ymin = 20000\n",
    "    \n",
    "    \n",
    "    for cnt in contours:\n",
    "        idx += 1\n",
    "        #print(idx)\n",
    "        x,y,w,h = cv2.boundingRect(cnt)\n",
    "        if(w*h>1800):\n",
    "            if (x<xmin):\n",
    "                xmin = x\n",
    "            if (y<ymin):\n",
    "                ymin = y\n",
    "            if ((x+w)>xmax):\n",
    "                xmax = x+w\n",
    "                wmax = w\n",
    "            if ((y+h)>ymax):\n",
    "                ymax = y+h\n",
    "                hmax = h\n",
    "            maxroi=gray[xmin:xmax,ymin:ymax]\n",
    "        #print(cnt)\n",
    "        #cv2.imwrite(str(idx) + '.jpg', roi)\n",
    "    cv2.rectangle(im2,(xmin,ymin),(xmax,ymax),(255,255,255),6)\n",
    "    \n",
    "    absx = float(xmin/imgw)+float((xmax-xmin)/imgw)/2\n",
    "    absy = float(ymin/imgh)+float((ymax-ymin)/imgh)/2\n",
    "    \n",
    "    #print(imgw,imgh)\n",
    "    return absx,absy,float((xmax-xmin)/imgw),float((ymax-ymin)/imgh),im2\n",
    "\n",
    "x,w,y,h,im2 = generatebox(img)\n",
    "print(x,w,y,h)\n",
    "plt.imshow(im2)\n",
    "plt.show()"
   ]
  },
  {
   "cell_type": "code",
   "execution_count": 5,
   "metadata": {},
   "outputs": [
    {
     "name": "stdout",
     "output_type": "stream",
     "text": [
      "screwdriver\n"
     ]
    },
    {
     "ename": "error",
     "evalue": "OpenCV(3.4.4) /io/opencv/modules/imgproc/src/color.cpp:181: error: (-215:Assertion failed) !_src.empty() in function 'cvtColor'\n",
     "output_type": "error",
     "traceback": [
      "\u001b[0;31m---------------------------------------------------------------------------\u001b[0m",
      "\u001b[0;31merror\u001b[0m                                     Traceback (most recent call last)",
      "\u001b[0;32m<ipython-input-5-52a5fe7f6078>\u001b[0m in \u001b[0;36m<module>\u001b[0;34m()\u001b[0m\n\u001b[1;32m     16\u001b[0m     \u001b[0;31m#out = cv2.resize(frame,(416,416))\u001b[0m\u001b[0;34m\u001b[0m\u001b[0;34m\u001b[0m\u001b[0m\n\u001b[1;32m     17\u001b[0m \u001b[0;34m\u001b[0m\u001b[0m\n\u001b[0;32m---> 18\u001b[0;31m     \u001b[0mout\u001b[0m \u001b[0;34m=\u001b[0m \u001b[0mremovegreen\u001b[0m\u001b[0;34m(\u001b[0m\u001b[0mframe\u001b[0m\u001b[0;34m)\u001b[0m\u001b[0;34m\u001b[0m\u001b[0m\n\u001b[0m\u001b[1;32m     19\u001b[0m \u001b[0;34m\u001b[0m\u001b[0m\n\u001b[1;32m     20\u001b[0m     \u001b[0;31m#get class name from class label\u001b[0m\u001b[0;34m\u001b[0m\u001b[0;34m\u001b[0m\u001b[0m\n",
      "\u001b[0;32m<ipython-input-3-eed497444ae6>\u001b[0m in \u001b[0;36mremovegreen\u001b[0;34m(image)\u001b[0m\n\u001b[1;32m     15\u001b[0m \u001b[0;32mdef\u001b[0m \u001b[0mremovegreen\u001b[0m\u001b[0;34m(\u001b[0m\u001b[0mimage\u001b[0m\u001b[0;34m)\u001b[0m\u001b[0;34m:\u001b[0m\u001b[0;34m\u001b[0m\u001b[0m\n\u001b[1;32m     16\u001b[0m     \u001b[0;31m## convert to hsv\u001b[0m\u001b[0;34m\u001b[0m\u001b[0;34m\u001b[0m\u001b[0m\n\u001b[0;32m---> 17\u001b[0;31m     \u001b[0mhsv\u001b[0m \u001b[0;34m=\u001b[0m \u001b[0mcv2\u001b[0m\u001b[0;34m.\u001b[0m\u001b[0mcvtColor\u001b[0m\u001b[0;34m(\u001b[0m\u001b[0mimage\u001b[0m\u001b[0;34m,\u001b[0m \u001b[0mcv2\u001b[0m\u001b[0;34m.\u001b[0m\u001b[0mCOLOR_BGR2HSV\u001b[0m\u001b[0;34m)\u001b[0m\u001b[0;34m\u001b[0m\u001b[0m\n\u001b[0m\u001b[1;32m     18\u001b[0m \u001b[0;34m\u001b[0m\u001b[0m\n\u001b[1;32m     19\u001b[0m     \u001b[0;31m## mask of green (36,0,0) ~ (70, 255,255)\u001b[0m\u001b[0;34m\u001b[0m\u001b[0;34m\u001b[0m\u001b[0m\n",
      "\u001b[0;31merror\u001b[0m: OpenCV(3.4.4) /io/opencv/modules/imgproc/src/color.cpp:181: error: (-215:Assertion failed) !_src.empty() in function 'cvtColor'\n"
     ]
    }
   ],
   "source": [
    "cap = cv2.VideoCapture('/home/e/Desktop/datacollecting/rawdata/110404.webm')\n",
    "count = 0\n",
    "ret, frame = cap.read()\n",
    "path = '/home/e/Desktop/newtrain/img/'\n",
    "#path2 = '/home/e/Desktop/newtrain/'\n",
    "file = open(\"/home/e/Desktop/newtrain/sshtrain.txt\",\"a\")\n",
    "#file = open(\"/home/e/Desktop/newtrain/train.txt\",\"w\")\n",
    "\n",
    "targetclass = 0\n",
    "objectname = classdict[targetclass]\n",
    "print(objectname)    \n",
    "while(ret):\n",
    "    # Capture frame-by-frame\n",
    "    ret, frame = cap.read()\n",
    "    \n",
    "    #out = cv2.resize(frame,(416,416))\n",
    "    \n",
    "    out = removegreen(frame)\n",
    "    \n",
    "    #get class name from class label\n",
    "\n",
    "    #retrive the label value\n",
    "    x,y,w,h,im2 = generatebox(out)\n",
    "    \n",
    "    #write image with boundingbox into files\n",
    "    #cv2.imwrite('/home/e/Desktop/datacollecting/test/%s%d.jpg' %(objectname,count) ,im2)\n",
    "    \n",
    "    ######write test image into files\n",
    "    cv2.imwrite('/home/e/Desktop/newtrain/img/%s%d.jpg' %(objectname,count) ,out)\n",
    "    ######write name into train.txt\n",
    "    file.write('/home/yisun/Desktop/newtrain/img/%s%d.jpg\\n' %(objectname,count))\n",
    "    \n",
    "    ###### write label to each file\n",
    "    name_of_file = str(objectname) + str(count) + \".txt\"\n",
    "    filename  = path + name_of_file\n",
    "    file1 = open(filename , \"w\")\n",
    "    #print(x,w,y,h)\n",
    "    file1.write(f\"{targetclass} {x} {y} {w} {h}\")\n",
    "    file1.close()\n",
    "    #print('Read a new frame: ', ret)\n",
    "\n",
    "    \n",
    "    \n",
    "    count += 1\n",
    "    \n",
    "    # Display the resulting frame\n",
    "    cv2.imshow('frame',im2)\n",
    "    if cv2.waitKey(1) & 0xFF == ord('q'):\n",
    "        break\n",
    "\n",
    "# When everything done, release the capture\n",
    "file.close()\n",
    "cap.release()\n",
    "cv2.destroyAllWindows()"
   ]
  },
  {
   "cell_type": "code",
   "execution_count": null,
   "metadata": {},
   "outputs": [],
   "source": []
  },
  {
   "cell_type": "code",
   "execution_count": null,
   "metadata": {},
   "outputs": [],
   "source": []
  }
 ],
 "metadata": {
  "kernelspec": {
   "display_name": "Python 3",
   "language": "python",
   "name": "python3"
  },
  "language_info": {
   "codemirror_mode": {
    "name": "ipython",
    "version": 3
   },
   "file_extension": ".py",
   "mimetype": "text/x-python",
   "name": "python",
   "nbconvert_exporter": "python",
   "pygments_lexer": "ipython3",
   "version": "3.6.6"
  }
 },
 "nbformat": 4,
 "nbformat_minor": 2
}
