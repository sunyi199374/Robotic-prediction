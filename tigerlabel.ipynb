{
 "cells": [
  {
   "cell_type": "code",
   "execution_count": 62,
   "metadata": {},
   "outputs": [],
   "source": [
    "import numpy as np\n",
    "import cv2\n",
    "from matplotlib import pyplot as plt\n",
    "import pickle\n",
    "import os\n",
    "%matplotlib inline\n",
    "\n",
    "img = cv2.imread('/home/e/Desktop/datacollecting/data/wrenches1424.jpg')\n",
    "\n",
    "classdict = {\n",
    "    0 : \"screwdriver\",\n",
    "    1 : \"wrenches\"\n",
    "}"
   ]
  },
  {
   "cell_type": "code",
   "execution_count": 91,
   "metadata": {},
   "outputs": [
    {
     "name": "stdout",
     "output_type": "stream",
     "text": [
      "0.4580078125 0.1904296875 0.2708333333333333 0.3385416666666667\n"
     ]
    },
    {
     "data": {
      "image/png": "[encoded data removed]",
      "text/plain": [
       "<Figure size 432x288 with 1 Axes>"
      ]
     },
     "metadata": {
      "needs_background": "light"
     },
     "output_type": "display_data"
    }
   ],
   "source": [
    "def generatebox(img):\n",
    "    \n",
    "    imgh,imgw,_ = img.shape\n",
    "    \n",
    "    gray = cv2.cvtColor(img,cv2.COLOR_BGR2GRAY)\n",
    "\n",
    "    # noise removal\n",
    "    kernel = np.ones((3,3),np.uint8)\n",
    "    \n",
    "    out = cv2.dilate(gray,kernel,iterations = 8)\n",
    "    out = cv2.morphologyEx(out,cv2.MORPH_OPEN,kernel, iterations = 3)\n",
    "    \n",
    "    ret,thresh = cv2.threshold(out,10,255,0)\n",
    "    im2, contours, hierarchy = cv2.findContours(thresh,cv2.RETR_TREE,cv2.CHAIN_APPROX_SIMPLE)\n",
    "    \n",
    "\n",
    "    idx = 0\n",
    "    \n",
    "    xmax = 0\n",
    "    ymax = 0\n",
    "\n",
    "    xmin = 20000\n",
    "    ymin = 20000\n",
    "    \n",
    "    \n",
    "    for cnt in contours:\n",
    "        idx += 1\n",
    "        #print(idx)\n",
    "        x,y,w,h = cv2.boundingRect(cnt)\n",
    "        if(w*h>2000):\n",
    "            if (0.1*imgw<x<xmin):\n",
    "                xmin = x\n",
    "            if (0.1*imgw<y<ymin):\n",
    "                ymin = y\n",
    "            if (0.9*imgh>(x+w)>xmax):\n",
    "                xmax = x+w\n",
    "                wmax = w\n",
    "            if (0.9*imgh>(y+h)>ymax):\n",
    "                ymax = y+h\n",
    "                hmax = h\n",
    "            maxroi=gray[xmin:xmax,ymin:ymax]\n",
    "        #print(cnt)\n",
    "        #cv2.imwrite(str(idx) + '.jpg', roi)\n",
    "    cv2.rectangle(im2,(xmin,ymin),(xmax,ymax),(255,255,255),6)\n",
    "\n",
    "    \n",
    "    #print(imgw,imgh)\n",
    "    return float(xmin/imgw),float((xmax-xmin)/imgw),float(ymin/imgh),float((ymax-ymin)/imgh),im2\n",
    "\n",
    "x,w,y,h,im2 = generatebox(img)\n",
    "print(x,w,y,h)\n",
    "plt.imshow(im2)\n",
    "plt.show()"
   ]
  },
  {
   "cell_type": "code",
   "execution_count": 92,
   "metadata": {},
   "outputs": [],
   "source": [
    "def removegreen(image):\n",
    "    ## convert to hsv\n",
    "    hsv = cv2.cvtColor(image, cv2.COLOR_BGR2HSV)\n",
    "\n",
    "    ## mask of green (36,0,0) ~ (70, 255,255)\n",
    "    mask = cv2.inRange(hsv, (40, 0, 0), (80, 255,255))\n",
    "\n",
    "    ## slice the green\n",
    "    imask = mask>0\n",
    "\n",
    "    # set the green screen to a value\n",
    "    image[imask] = 0\n",
    "\n",
    "    return image"
   ]
  },
  {
   "cell_type": "code",
   "execution_count": null,
   "metadata": {},
   "outputs": [],
   "source": []
  },
  {
   "cell_type": "code",
   "execution_count": 93,
   "metadata": {},
   "outputs": [],
   "source": [
    "cap = cv2.VideoCapture('/home/e/Desktop/datacollecting/rawdata/110402.webm')\n",
    "count = 0\n",
    "ret, frame = cap.read()\n",
    "path = r'/home/e/Desktop/datacollecting/data/'\n",
    "while(ret):\n",
    "    # Capture frame-by-frame\n",
    "    ret, frame = cap.read()\n",
    "    \n",
    "    out = removegreen(frame)\n",
    "    \n",
    "    #get class name from class label\n",
    "    targetclass = 1\n",
    "    objectname = classdict[targetclass]\n",
    "    \n",
    "    #retrive the label value\n",
    "    x,w,y,h,im2 = generatebox(out)\n",
    "    \n",
    "    #write into files\n",
    "    #cv2.imwrite('/home/e/Desktop/datacollecting/test/%s%d.jpg' %(objectname,count) ,im2)\n",
    "    \n",
    "    name_of_file = str(objectname) + str(count) + \".txt\"\n",
    "    filename  = path + name_of_file\n",
    "    #file1 = open(filename , \"w\")\n",
    "    #print(x,w,y,h)\n",
    "    #file1.write(f\"{targetclass} {x} {w} {y} {h}\")\n",
    "    #file1.close()\n",
    "    #print('Read a new frame: ', ret)\n",
    "    \n",
    "    count += 1\n",
    "    \n",
    "    # Display the resulting frame\n",
    "    cv2.imshow('frame',im2)\n",
    "    if cv2.waitKey(1) & 0xFF == ord('q'):\n",
    "        break\n",
    "\n",
    "# When everything done, release the capture\n",
    "cap.release()\n",
    "cv2.destroyAllWindows()"
   ]
  },
  {
   "cell_type": "code",
   "execution_count": null,
   "metadata": {},
   "outputs": [],
   "source": []
  },
  {
   "cell_type": "code",
   "execution_count": null,
   "metadata": {},
   "outputs": [],
   "source": []
  }
 ],
 "metadata": {
  "kernelspec": {
   "display_name": "Python 3",
   "language": "python",
   "name": "python3"
  },
  "language_info": {
   "codemirror_mode": {
    "name": "ipython",
    "version": 3
   },
   "file_extension": ".py",
   "mimetype": "text/x-python",
   "name": "python",
   "nbconvert_exporter": "python",
   "pygments_lexer": "ipython3",
   "version": "3.6.6"
  }
 },
 "nbformat": 4,
 "nbformat_minor": 2
}
